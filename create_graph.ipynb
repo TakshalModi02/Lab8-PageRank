{
 "cells": [
  {
   "cell_type": "code",
   "execution_count": 13,
   "metadata": {},
   "outputs": [
    {
     "name": "stdout",
     "output_type": "stream",
     "text": [
      "3031\n"
     ]
    }
   ],
   "source": [
    "with open('output.txt') as f:\n",
    "    lines = f.read().splitlines()\n",
    "    lines.remove(lines[0])\n",
    "\n",
    "# Use a set to store unique values\n",
    "V = set()\n",
    "\n",
    "# Iterate through each line\n",
    "for line in lines:\n",
    "    # Split the line into two numbers\n",
    "    values = map(int, line.split(' '))\n",
    "    \n",
    "    # Update the set with the values\n",
    "    V.update(values)\n",
    "\n",
    "print(len(V))\n"
   ]
  },
  {
   "cell_type": "code",
   "execution_count": 14,
   "metadata": {},
   "outputs": [
    {
     "name": "stdout",
     "output_type": "stream",
     "text": [
      "6474\n"
     ]
    }
   ],
   "source": [
    "with open('output.txt') as f:\n",
    "    lines = f.read().splitlines()\n",
    "    lines.remove(lines[0])\n",
    "\n",
    "# Create a list of tuples representing edges\n",
    "E = [tuple(map(int, line.split(' '))) for line in lines]\n",
    "\n",
    "print(len(E))\n"
   ]
  },
  {
   "cell_type": "code",
   "execution_count": 15,
   "metadata": {},
   "outputs": [],
   "source": [
    "from py2neo import Graph, Node, Relationship\n",
    "\n",
    "class WebGraph:\n",
    "    def __init__(self):\n",
    "        self.graph = Graph(\"bolt://localhost:7687\", user=\"neo4j\", password=\"12345678\")\n",
    "\n",
    "    def create_node(self, node_name):\n",
    "        node = Node(\"Page\", name=node_name)\n",
    "        self.graph.create(node)\n",
    "        return node\n",
    "\n",
    "    def create_relationship(self, node1, node2):\n",
    "        relationship = Relationship(node1, \"Link\", node2)\n",
    "        self.graph.create(relationship)\n",
    "        return relationship\n",
    "\n",
    "    def create_graph(self, vertices, edges):\n",
    "        # Create nodes for each vertex\n",
    "        nodes = {}\n",
    "        for vertex in vertices:\n",
    "            nodes[vertex] = self.create_node(str(vertex))\n",
    "\n",
    "        # Create relationships for each edge\n",
    "        for edge in edges:\n",
    "            node1, node2 = nodes[edge[0]], nodes[edge[1]]\n",
    "            self.create_relationship(node1, node2)\n",
    "\n",
    "# # Example usage\n",
    "# vertices = {1, 2, 3, 4}\n",
    "# edges = [(224, 1), (77, 2), (106, 2)]\n",
    "\n",
    "# Create a graph\n",
    "graph = WebGraph()\n",
    "graph.create_graph(V, E)\n"
   ]
  }
 ],
 "metadata": {
  "kernelspec": {
   "display_name": "Python 3",
   "language": "python",
   "name": "python3"
  },
  "language_info": {
   "codemirror_mode": {
    "name": "ipython",
    "version": 3
   },
   "file_extension": ".py",
   "mimetype": "text/x-python",
   "name": "python",
   "nbconvert_exporter": "python",
   "pygments_lexer": "ipython3",
   "version": "3.12.0"
  }
 },
 "nbformat": 4,
 "nbformat_minor": 2
}
