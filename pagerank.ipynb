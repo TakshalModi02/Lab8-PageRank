{
 "cells": [
  {
   "cell_type": "code",
   "execution_count": 6,
   "metadata": {},
   "outputs": [],
   "source": [
    "def read_mtx_file(file_path):\n",
    "    with open(file_path, 'r') as file:\n",
    "        # Read the lines from the file\n",
    "        lines = file.readlines()\n",
    "\n",
    "        # Extract matrix dimensions and non-zero entries\n",
    "        rows, columns, non_zeros = map(int, lines[1].split())\n",
    "\n",
    "        # Extract non-zero entries\n",
    "        non_zero_entries = [line.strip().split() for line in lines[2:]]\n",
    "\n",
    "    return rows, columns, non_zeros, non_zero_entries\n",
    "\n",
    "def write_to_txt(rows, columns, non_zeros, non_zero_entries, output_file):\n",
    "    with open(output_file, 'w') as file:\n",
    "        # Write matrix dimensions and non-zero entries to the txt file\n",
    "        file.write(f\"{rows} {columns} {non_zeros}\\n\")\n",
    "\n",
    "        # Write non-zero entries to the txt file\n",
    "        for entry in non_zero_entries:\n",
    "            file.write(\" \".join(entry) + \"\\n\")\n",
    "\n",
    "# Replace 'input.mtx' and 'output.txt' with your file names\n",
    "input_file = 'links.mtx'\n",
    "output_file = 'output.txt'\n",
    "\n",
    "# Read the MatrixMarket file\n",
    "rows, columns, non_zeros, non_zero_entries = read_mtx_file(input_file)\n",
    "\n",
    "# Write the data to a text file\n",
    "write_to_txt(rows, columns, non_zeros, non_zero_entries, output_file)"
   ]
  },
  {
   "cell_type": "code",
   "execution_count": 7,
   "metadata": {},
   "outputs": [
    {
     "name": "stdout",
     "output_type": "stream",
     "text": [
      "Matrix has been saved to matrix.txt\n"
     ]
    }
   ],
   "source": [
    "import numpy as np\n",
    "\n",
    "# Initialize a matrix of zeros\n",
    "matrix_size = rows\n",
    "matrix = np.zeros((matrix_size, matrix_size))\n",
    "\n",
    "# Read data from the text file\n",
    "with open('output.txt', 'r') as file:\n",
    "    lines = file.readlines()\n",
    "    lines.remove(lines[0])\n",
    "\n",
    "check = 0\n",
    "\n",
    "# Process each line in the file\n",
    "for line in lines:\n",
    "    # Split the line into two values\n",
    "    values = line.split()\n",
    "    col_index = int(values[0]) - 1  # Convert to 0-based index\n",
    "    row_index = int(values[1]) - 1  # Convert to 0-based index\n",
    "\n",
    "    # check = check+1\n",
    "\n",
    "    # Increment the corresponding element in the matrix\n",
    "    matrix[row_index, col_index] += 1\n",
    "\n",
    "output_file_path = 'matrix.txt'\n",
    "np.savetxt(output_file_path, matrix, fmt='%d')\n",
    "\n",
    "print(f\"Matrix has been saved to {output_file_path}\")\n"
   ]
  },
  {
   "cell_type": "code",
   "execution_count": 8,
   "metadata": {},
   "outputs": [
    {
     "name": "stdout",
     "output_type": "stream",
     "text": [
      "6474\n"
     ]
    }
   ],
   "source": [
    "print(np.count_nonzero(matrix))"
   ]
  },
  {
   "cell_type": "code",
   "execution_count": 9,
   "metadata": {},
   "outputs": [
    {
     "name": "stdout",
     "output_type": "stream",
     "text": [
      "[[0. 0. 0. ... 0. 0. 0.]\n",
      " [0. 0. 1. ... 0. 0. 0.]\n",
      " [0. 0. 0. ... 0. 0. 0.]\n",
      " ...\n",
      " [0. 0. 0. ... 0. 0. 0.]\n",
      " [0. 0. 0. ... 0. 0. 0.]\n",
      " [0. 0. 0. ... 0. 0. 0.]]\n"
     ]
    }
   ],
   "source": [
    "# Normalize the columns of the matrix for non-zero values\n",
    "non_zero_columns = np.sum(matrix, axis=0) != 0\n",
    "matrix[:, non_zero_columns] /= np.sum(matrix[:, non_zero_columns], axis=0)\n",
    "\n",
    "# Print the normalized matrix\n",
    "print(matrix)"
   ]
  },
  {
   "cell_type": "code",
   "execution_count": 10,
   "metadata": {},
   "outputs": [
    {
     "name": "stdout",
     "output_type": "stream",
     "text": [
      "[1. 1. 1. ... 1. 1. 1.]\n",
      "Is Column Stochastic: True\n"
     ]
    }
   ],
   "source": [
    "import numpy as np\n",
    "\n",
    "# Find columns with only zero elements\n",
    "zero_columns = np.where(~matrix.any(axis=0))[0]\n",
    "\n",
    "# Replace columns with only zero elements with 1/3031\n",
    "matrix[:, zero_columns] = 1/3031\n",
    "\n",
    "column_sums = []\n",
    "\n",
    "# Verify that the sum of each column is 1\n",
    "column_sums = matrix.sum(axis=0)\n",
    "\n",
    "print(column_sums)\n",
    "\n",
    "# Verify that the matrix is column stochastic\n",
    "print(\"Is Column Stochastic:\", np.allclose(column_sums, 1))\n"
   ]
  },
  {
   "cell_type": "code",
   "execution_count": 11,
   "metadata": {},
   "outputs": [
    {
     "name": "stdout",
     "output_type": "stream",
     "text": [
      "1134006\n"
     ]
    }
   ],
   "source": [
    "print(np.count_nonzero(matrix))"
   ]
  },
  {
   "cell_type": "code",
   "execution_count": 12,
   "metadata": {},
   "outputs": [
    {
     "name": "stdout",
     "output_type": "stream",
     "text": [
      "The matrix is column stochastic.\n"
     ]
    }
   ],
   "source": [
    "# Check if the sum of each column is approximately equal to 1\n",
    "column_sums = matrix.sum(axis=0)\n",
    "is_column_stochastic = np.allclose(column_sums, 1)\n",
    "\n",
    "if is_column_stochastic:\n",
    "    print(\"The matrix is column stochastic.\")\n",
    "else:\n",
    "    print(\"The matrix is not column stochastic.\")"
   ]
  },
  {
   "cell_type": "code",
   "execution_count": 13,
   "metadata": {},
   "outputs": [
    {
     "name": "stdout",
     "output_type": "stream",
     "text": [
      "[[3.29924117e-04 3.29924117e-04 0.00000000e+00 ... 0.00000000e+00\n",
      "  0.00000000e+00 0.00000000e+00]\n",
      " [3.29924117e-04 3.29924117e-04 1.00000000e+00 ... 0.00000000e+00\n",
      "  0.00000000e+00 0.00000000e+00]\n",
      " [3.29924117e-04 3.29924117e-04 0.00000000e+00 ... 0.00000000e+00\n",
      "  0.00000000e+00 0.00000000e+00]\n",
      " ...\n",
      " [3.29924117e-04 3.29924117e-04 0.00000000e+00 ... 0.00000000e+00\n",
      "  0.00000000e+00 0.00000000e+00]\n",
      " [3.29924117e-04 3.29924117e-04 0.00000000e+00 ... 0.00000000e+00\n",
      "  0.00000000e+00 0.00000000e+00]\n",
      " [3.29924117e-04 3.29924117e-04 0.00000000e+00 ... 0.00000000e+00\n",
      "  0.00000000e+00 0.00000000e+00]]\n"
     ]
    }
   ],
   "source": [
    "L = matrix\n",
    "print(L)"
   ]
  },
  {
   "cell_type": "code",
   "execution_count": 14,
   "metadata": {},
   "outputs": [
    {
     "name": "stdout",
     "output_type": "stream",
     "text": [
      "PageRank Scores:\n",
      "[4.60150052e-04 9.02848998e-04 7.21721644e-04 ... 6.72009094e-05\n",
      " 6.72009094e-05 6.72009094e-05]\n"
     ]
    }
   ],
   "source": [
    "import numpy as np\n",
    "\n",
    "def page_rank(matrix, damping_factor=0.85, epsilon=1e-8, max_iterations=1000):\n",
    "    \"\"\"\n",
    "    PageRank algorithm implementation.\n",
    "\n",
    "    Parameters:\n",
    "    - matrix: The column stochastic matrix representing the transition probabilities.\n",
    "    - damping_factor: The damping factor (typically set to 0.85).\n",
    "    - epsilon: Convergence criterion.\n",
    "    - max_iterations: Maximum number of iterations.\n",
    "\n",
    "    Returns:\n",
    "    - page_ranks: A 1D array containing the PageRank scores for each vertex.\n",
    "    \"\"\"\n",
    "\n",
    "    # Get the number of vertices\n",
    "    num_vertices = matrix.shape[0]\n",
    "\n",
    "    # Initialize PageRank scores\n",
    "    page_ranks = np.ones(num_vertices) / num_vertices\n",
    "\n",
    "    for _ in range(max_iterations):\n",
    "        # Store the current PageRank scores for convergence check\n",
    "        old_page_ranks = page_ranks.copy()\n",
    "\n",
    "        # Update PageRank scores\n",
    "        page_ranks = (1 - damping_factor) / num_vertices + damping_factor * np.dot(matrix, page_ranks)\n",
    "\n",
    "        # Check for convergence\n",
    "        if np.linalg.norm(page_ranks - old_page_ranks, 1) < epsilon:\n",
    "            break\n",
    "\n",
    "    return page_ranks\n",
    "\n",
    "# Assuming you have the column stochastic matrix L\n",
    "# Compute PageRank scores\n",
    "page_ranks = page_rank(L)\n",
    "\n",
    "# Print the results\n",
    "print(\"PageRank Scores:\")\n",
    "print(page_ranks)\n"
   ]
  },
  {
   "cell_type": "code",
   "execution_count": 15,
   "metadata": {},
   "outputs": [
    {
     "name": "stdout",
     "output_type": "stream",
     "text": [
      "[[3.29924117e-04 3.29924117e-04 0.00000000e+00 ... 0.00000000e+00\n",
      "  0.00000000e+00 0.00000000e+00]\n",
      " [3.29924117e-04 3.29924117e-04 1.00000000e+00 ... 0.00000000e+00\n",
      "  0.00000000e+00 0.00000000e+00]\n",
      " [3.29924117e-04 3.29924117e-04 0.00000000e+00 ... 0.00000000e+00\n",
      "  0.00000000e+00 0.00000000e+00]\n",
      " ...\n",
      " [3.29924117e-04 3.29924117e-04 0.00000000e+00 ... 0.00000000e+00\n",
      "  0.00000000e+00 0.00000000e+00]\n",
      " [3.29924117e-04 3.29924117e-04 0.00000000e+00 ... 0.00000000e+00\n",
      "  0.00000000e+00 0.00000000e+00]\n",
      " [3.29924117e-04 3.29924117e-04 0.00000000e+00 ... 0.00000000e+00\n",
      "  0.00000000e+00 0.00000000e+00]]\n"
     ]
    }
   ],
   "source": [
    "print(matrix)"
   ]
  },
  {
   "cell_type": "code",
   "execution_count": 16,
   "metadata": {},
   "outputs": [
    {
     "name": "stdout",
     "output_type": "stream",
     "text": [
      "Ranked Vertices: [  16 2907 2965 ... 3031  380  379]\n"
     ]
    }
   ],
   "source": [
    "# Rank the vertices in descending order\n",
    "ranked_vertices = np.argsort(page_ranks)[::-1]\n",
    "\n",
    "# Add 1 to each ranked vertex as we assumed a zero indexed graph\n",
    "ranked_vertices = ranked_vertices + 1\n",
    "\n",
    "print(\"Ranked Vertices:\", ranked_vertices)"
   ]
  },
  {
   "cell_type": "code",
   "execution_count": 17,
   "metadata": {},
   "outputs": [
    {
     "name": "stdout",
     "output_type": "stream",
     "text": [
      "Top 5 Vertices: [  16 2907 2965  342 2908]\n"
     ]
    }
   ],
   "source": [
    "# Top n imp vertices\n",
    "\n",
    "top_n = 5  # Change this to the desired number of top vertices\n",
    "top_vertices = ranked_vertices[:top_n]\n",
    "print(\"Top\", top_n, \"Vertices:\", top_vertices)\n"
   ]
  }
 ],
 "metadata": {
  "kernelspec": {
   "display_name": "Python 3",
   "language": "python",
   "name": "python3"
  },
  "language_info": {
   "codemirror_mode": {
    "name": "ipython",
    "version": 3
   },
   "file_extension": ".py",
   "mimetype": "text/x-python",
   "name": "python",
   "nbconvert_exporter": "python",
   "pygments_lexer": "ipython3",
   "version": "3.12.0"
  }
 },
 "nbformat": 4,
 "nbformat_minor": 2
}
